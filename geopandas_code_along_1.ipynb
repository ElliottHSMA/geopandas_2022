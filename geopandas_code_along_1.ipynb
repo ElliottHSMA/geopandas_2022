{
 "cells": [
  {
   "cell_type": "markdown",
   "metadata": {},
   "source": [
    "# Demonstration of GeoPandas\n",
    "\n",
    "GeoPandas is a powerful Python Package for manipulating and plotting geographical data. In this notebook we will cover:\n",
    "\n",
    "1. [GeoPandas installation](#installation)\n",
    "1. [Creating a GeoPandas DataFrame from a standard geographic file format.](#matplotlib)\n",
    "1. [Setting the CRS (Coordinate Reference System).](#matplotlib)\n",
    "1. [Creating a map from the GeoPandas DataFrame.](#matplotlib)\n",
    "1. [Merging geographical areas.](#merging)\n",
    "1. [Selecting small areas within a larger area.](#matplotlib)\n",
    "1. [Handling point data.](#matplotlib)\n",
    "1. [Converting geography between BNG (British National Grid Eastings and Northings) and Latitude/Longitude.](#matplotlib)\n",
    "1. [Creating cusomizable maps with MatPlotLib](#matplotlib)\n",
    "\n",
    "For areas we most commonly use shape files. The frequently come as a Zip file with the shape file and other metadata files. The repository for this notebook (https://github.com/michaelallen1966/2010_geopandas) contains all the necessary files. UK government pages to download these files tend to move around! At the time of writing the full England shape file download may be found at:\n",
    "\n",
    "https://geoportal.statistics.gov.uk/datasets/lower-layer-super-output-areas-december-2011-boundaries-full-clipped-bfc-ew-v3/explore?location=52.837545%2C-2.489527%2C7.16\n",
    "\n",
    "You may find this a useful resource. We have estiomated travel times for all LSOA in England to 185 acute hospitals. Travel times are clear road conditions.\n",
    "\n",
    "https://gitlab.com/michaelallen1966/1811_lsoa_to_acute_hospital_travel"
   ]
  },
  {
   "cell_type": "markdown",
   "metadata": {},
   "source": [
    "## Installation\n",
    "<a name=\"installation\">  Installation instructions </a>\n",
    "\n",
    "It is recommended that you install the environment as instructed in the README for this GitHub repository. You may also install packages manually in a current environment, though this method risks contability problems with your current environment. \n",
    "\n",
    "Alternative save the following as a file titled `environment.yml`:\n",
    "\n",
    "```\n",
    "name: geopandas\n",
    "channels:\n",
    "  - defaults\n",
    "  - conda-forge\n",
    "dependencies:\n",
    "  - geopandas\n",
    "  - jupyterlab\n",
    "  - mapclassify\n",
    "  - pip\n",
    "  - python=3.8\n",
    "  - pip:\n",
    "    - contextily\n",
    "```\n",
    "\n",
    "Then, from the folder where that yml file is, type the following into a terminal/command line: \n",
    "\n",
    "`conda env create -f environment.yml`\n",
    "\n",
    "And then activate the environment with:\n",
    "\n",
    "`conda activate geopandas`\n",
    "\n",
    "And then launch Jupyter Lab with:\n",
    "\n",
    "`jupyter-lab`\n",
    "\n",
    "\n",
    "\n",
    "[Click here to see the code to make bar chart](#matplotlib)"
   ]
  },
  {
   "cell_type": "markdown",
   "metadata": {},
   "source": [
    "## Import modules"
   ]
  },
  {
   "cell_type": "code",
   "execution_count": 1,
   "metadata": {},
   "outputs": [
    {
     "ename": "ModuleNotFoundError",
     "evalue": "No module named 'contextily'",
     "output_type": "error",
     "traceback": [
      "\u001b[0;31m---------------------------------------------------------------------------\u001b[0m",
      "\u001b[0;31mModuleNotFoundError\u001b[0m                       Traceback (most recent call last)",
      "\u001b[0;32m/tmp/ipykernel_44199/4197041401.py\u001b[0m in \u001b[0;36m<module>\u001b[0;34m\u001b[0m\n\u001b[0;32m----> 1\u001b[0;31m \u001b[0;32mimport\u001b[0m \u001b[0mcontextily\u001b[0m \u001b[0;32mas\u001b[0m \u001b[0mctx\u001b[0m\u001b[0;34m\u001b[0m\u001b[0;34m\u001b[0m\u001b[0m\n\u001b[0m\u001b[1;32m      2\u001b[0m \u001b[0;32mimport\u001b[0m \u001b[0mgeopandas\u001b[0m\u001b[0;34m\u001b[0m\u001b[0;34m\u001b[0m\u001b[0m\n\u001b[1;32m      3\u001b[0m \u001b[0;32mimport\u001b[0m \u001b[0mmatplotlib\u001b[0m\u001b[0;34m.\u001b[0m\u001b[0mpyplot\u001b[0m \u001b[0;32mas\u001b[0m \u001b[0mplt\u001b[0m\u001b[0;34m\u001b[0m\u001b[0;34m\u001b[0m\u001b[0m\n\u001b[1;32m      4\u001b[0m \u001b[0;32mimport\u001b[0m \u001b[0mpandas\u001b[0m \u001b[0;32mas\u001b[0m \u001b[0mpd\u001b[0m\u001b[0;34m\u001b[0m\u001b[0;34m\u001b[0m\u001b[0m\n",
      "\u001b[0;31mModuleNotFoundError\u001b[0m: No module named 'contextily'"
     ]
    }
   ],
   "source": [
    "import contextily as ctx\n",
    "import geopandas\n",
    "import matplotlib.pyplot as plt\n",
    "import pandas as pd"
   ]
  },
  {
   "cell_type": "markdown",
   "metadata": {},
   "source": [
    "## Load LSOA shape file\n",
    "\n",
    "The following will load the shape file of the South West of England LSOA (Lower Super Output Areas) into a GeoPandas DataFrame. Note that we can set the CRS (Coordinate Reference System) when loading a GeoPandas DataFrame. EPSG:27700 is the CRS to use when geography is in BNG (British National Grid Eastings and Northings).\n",
    "\n",
    "* EPSG:27700 OSGB 1936 / British National Grid -- United Kingdom Ordnance Survey. Co-ordinates are in Eastings (X) and Northings (Y).\n",
    "* EPSG:4326 WGS 84 -- WGS84 - World Geodetic System 1984. Co-ordinates are in Longitude (X) and Latitude (Y).\n",
    "* EPSG:3857 - projection for displaying lat/long as a flat map\n",
    "\n",
    "This file is a manually clipped section of the South West of England. In this notebook we will restrict it to Devon and Cornwall.\n",
    "\n",
    "[GeoPandas read_file documentation](https://geopandas.org/en/stable/docs/reference/api/geopandas.read_file.html)\n"
   ]
  },
  {
   "cell_type": "code",
   "execution_count": null,
   "metadata": {},
   "outputs": [],
   "source": [
    "# Import England LSAO Shape file (use 'zip://'' prefic for zip files)\n",
    "filename = \"zip://./data/south_west_lsoa.zip\"\n",
    "lsoa_gdf = geopandas.read_file(filename, crs='EPSG:27700')"
   ]
  },
  {
   "cell_type": "markdown",
   "metadata": {},
   "source": [
    "A GeoPandas DataFrame has a `geometry` column which contains the geographical details used for plotting and other geographic methods."
   ]
  },
  {
   "cell_type": "code",
   "execution_count": null,
   "metadata": {},
   "outputs": [],
   "source": [
    "lsoa_gdf.head(3)"
   ]
  },
  {
   "cell_type": "markdown",
   "metadata": {},
   "source": [
    "We can create a simple lot using the `plot()` method for the Geopandas DataFrame."
   ]
  },
  {
   "cell_type": "code",
   "execution_count": null,
   "metadata": {},
   "outputs": [],
   "source": [
    "# The semi-colon supresses any additional info on screen i.e. <AxesSubplot:>\n",
    "lsoa_gdf.plot(figsize=(8,8));"
   ]
  },
  {
   "cell_type": "markdown",
   "metadata": {},
   "source": [
    "<h3> <span style=\"color:red\">Try the above steps -  <em>15 mins</em> </span>.</h3>"
   ]
  },
  {
   "cell_type": "markdown",
   "metadata": {},
   "source": [
    "## Using Spatial Relationship methods to select data lower super output areas in Devon or Cornwall\n",
    "\n",
    "Here we will find LSOAs that are within the counties of Devon and Cornwall. **Note: There is nothing in the geodataframe (gdf) above that explicitly states 'Devon' or 'Cornwall'.**\n",
    "\n",
    "We will start by loading a file of geography for counties and unitary authorities."
   ]
  },
  {
   "cell_type": "code",
   "execution_count": null,
   "metadata": {},
   "outputs": [],
   "source": [
    "# Import County boundary shape file\n",
    "# Originally from Government\n",
    "filename = \"zip://./data/Counties_and_Unitary_Authorities__December_2017\" + \\\n",
    "    \"__Boundaries_UK-shp.zip\"\n",
    "\n",
    "# Note - now performing same action as above - just in 2 distinct steps \n",
    "counties_gdf = geopandas.read_file(filename)\n",
    "counties_gdf = counties_gdf.set_crs(epsg=27700)"
   ]
  },
  {
   "cell_type": "code",
   "execution_count": null,
   "metadata": {},
   "outputs": [],
   "source": [
    "# two lines of strings contact into one.\n",
    "filename"
   ]
  },
  {
   "cell_type": "code",
   "execution_count": null,
   "metadata": {},
   "outputs": [],
   "source": [
    "counties_gdf.head()"
   ]
  },
  {
   "cell_type": "markdown",
   "metadata": {},
   "source": [
    "We can see the boundries woth the `plot()` method."
   ]
  },
  {
   "cell_type": "code",
   "execution_count": null,
   "metadata": {},
   "outputs": [],
   "source": [
    "counties_gdf.plot(figsize=(8,8));"
   ]
  },
  {
   "cell_type": "markdown",
   "metadata": {},
   "source": [
    "**Note: The County of Devon does not include Torbay or Plymouth Unitary Authorities: these will need to be included manually**"
   ]
  },
  {
   "cell_type": "markdown",
   "metadata": {},
   "source": [
    "### Lambda functions\n",
    "\n",
    "Take a break and watch a 6 minute video on Lambda functions:\n",
    "\n",
    "https://youtu.be/25ovCm9jKfA\n",
    "\n",
    "**Highly recommend Subscribing to Socratica (YouTube)**"
   ]
  },
  {
   "cell_type": "markdown",
   "metadata": {},
   "source": [
    "<h3> <span style=\"color:red\">Try the above steps -  <em>15 mins.</em> </span></h3>"
   ]
  },
  {
   "cell_type": "code",
   "execution_count": 15,
   "metadata": {},
   "outputs": [
    {
     "name": "stdout",
     "output_type": "stream",
     "text": [
      "     Name  Age\n",
      "0     Tom   22\n",
      "1  Joseph   21\n",
      "2   Krish   19\n",
      "3    John   18\n"
     ]
    }
   ],
   "source": [
    "# Example of Lambda Function\n",
    "\n",
    "import pandas as pd  \n",
    "  \n",
    "# assign data of lists.  \n",
    "data = {'Name': ['Tom', 'Joseph', 'Krish', 'John'], 'Age': [22, 21, 19, 18]}  \n",
    "  \n",
    "# Create DataFrame  \n",
    "df = pd.DataFrame(data)  \n",
    "  \n",
    "# Print the output.\n",
    "print(df)  \n",
    "\n",
    "# \n",
    "df['over_21'] = df['Age'].apply(lambda x: 'yes' if x > 21 else 'no')\n",
    "\n",
    "# Print the output.\n",
    "print(df)  "
   ]
  },
  {
   "cell_type": "code",
   "execution_count": 16,
   "metadata": {},
   "outputs": [
    {
     "name": "stdout",
     "output_type": "stream",
     "text": [
      "     Name  Age over_21\n",
      "0     Tom   22     yes\n",
      "1  Joseph   21      no\n",
      "2   Krish   19      no\n",
      "3    John   18      no\n"
     ]
    }
   ],
   "source": [
    "df['over_21'] = df['Age'].apply(lambda x: 'yes' if x > 21 else 'no')\n",
    "print(df)  "
   ]
  },
  {
   "cell_type": "markdown",
   "metadata": {},
   "source": [
    "### Finding the Devon and Cornwall data\n",
    "\n",
    "The first thing we need to do is to idenitify the rows in the DataFrame that are in Cornwall and Devon. We can't just use county names as we must also include the unitary authorities 'Plymouth' and 'Torbay'.\n",
    "\n",
    "The best way to apply a 'by row' function in DataFrames is to use the `map()` method. This applies a given function to all rows in a DataFrame. To check whether a value is in a list we need to apply a short function. As the function is simple we can use a *lambda* function as shown below."
   ]
  },
  {
   "cell_type": "markdown",
   "metadata": {},
   "source": [
    "Quick video on Map, Reduce, Filter - https://www.youtube.com/watch?v=hUes6y2b--0"
   ]
  },
  {
   "cell_type": "markdown",
   "metadata": {},
   "source": [
    "<img src=\"images/map_reduce_filter.png\" alt=\"drawing\" width=\"450\"/>"
   ]
  },
  {
   "cell_type": "code",
   "execution_count": null,
   "metadata": {},
   "outputs": [],
   "source": [
    "# Identify rows that are Devon or Cornwall (use Pandas map lambda function)\n",
    "# Similar to going through each row of data in a 'for loop'\n",
    "devon_cornwall = \\\n",
    "    counties_gdf['ctyua17nm'].map(\n",
    "        lambda x: x in ['Devon', 'Cornwall', 'Plymouth', 'Torbay'])"
   ]
  },
  {
   "cell_type": "code",
   "execution_count": null,
   "metadata": {},
   "outputs": [],
   "source": [
    "# Creates a pd.Series\n",
    "devon_cornwall"
   ]
  },
  {
   "cell_type": "code",
   "execution_count": null,
   "metadata": {},
   "outputs": [],
   "source": [
    "print(len(devon_cornwall))"
   ]
  },
  {
   "cell_type": "code",
   "execution_count": null,
   "metadata": {},
   "outputs": [],
   "source": [
    "# Check number of 'True' within the Series\n",
    "devon_cornwall.sum()"
   ]
  },
  {
   "cell_type": "code",
   "execution_count": null,
   "metadata": {},
   "outputs": [],
   "source": [
    "# Add new column to DataFrame. This will be a booelan (True/False) column\n",
    "# Could have done in single step\n",
    "counties_gdf['devon_cornwall'] = devon_cornwall"
   ]
  },
  {
   "cell_type": "code",
   "execution_count": null,
   "metadata": {},
   "outputs": [],
   "source": [
    "counties_gdf.head()"
   ]
  },
  {
   "cell_type": "code",
   "execution_count": null,
   "metadata": {},
   "outputs": [],
   "source": [
    "mask = counties_gdf['devon_cornwall'] == True"
   ]
  },
  {
   "cell_type": "code",
   "execution_count": null,
   "metadata": {},
   "outputs": [],
   "source": [
    "# Need to add .loc[] to look at rows\n",
    "dc = counties_gdf.loc[mask]"
   ]
  },
  {
   "cell_type": "code",
   "execution_count": null,
   "metadata": {},
   "outputs": [],
   "source": [
    "dc"
   ]
  },
  {
   "cell_type": "code",
   "execution_count": null,
   "metadata": {},
   "outputs": [],
   "source": [
    "dc.plot(figsize=(8,8));"
   ]
  },
  {
   "cell_type": "markdown",
   "metadata": {},
   "source": [
    "<a name=\"merging\">  Merging areas together </a>\n",
    "## Merging areas together"
   ]
  },
  {
   "cell_type": "markdown",
   "metadata": {},
   "source": [
    "Now we are going to merge LSOAs by whether they are in Devon and Cornwall or not (we can merge on any column in order to combine areas). This will create a new DataFrame. To merge areas we use the `dissolve()` method.\n",
    "\n",
    "https://geopandas.org/aggregation_with_dissolve.html"
   ]
  },
  {
   "cell_type": "code",
   "execution_count": null,
   "metadata": {},
   "outputs": [],
   "source": [
    "# Create two groupings i.e., True and False re Devon and Cornwall\n",
    "# 'devon_cornwall' is now the index column\n",
    "# 'geometry' is now multipolygon (not just polygon)\n",
    "merged_gdf = counties_gdf.dissolve(by='devon_cornwall')\n",
    "merged_gdf"
   ]
  },
  {
   "cell_type": "markdown",
   "metadata": {},
   "source": [
    "Now we select just the geometry Devon and Cornwall row, This has an index value of 'True'.\n",
    "\n",
    "<a name=\"define_dc_geometry\"> Defining `dc_geometry` </a>"
   ]
  },
  {
   "cell_type": "code",
   "execution_count": null,
   "metadata": {},
   "outputs": [],
   "source": [
    "dc_geometry = merged_gdf.loc[True].geometry"
   ]
  },
  {
   "cell_type": "markdown",
   "metadata": {},
   "source": [
    "Jupyter will display the geometry of a single geometry zone:"
   ]
  },
  {
   "cell_type": "code",
   "execution_count": null,
   "metadata": {},
   "outputs": [],
   "source": [
    "# Remember that this is a geodataframe (not a regular dataframe)\n",
    "# Jupyter knows that 'geometry' refers to geographic area - with CRS already applied.\n",
    "dc_geometry"
   ]
  },
  {
   "cell_type": "markdown",
   "metadata": {},
   "source": [
    "<h3> <span style=\"color:red\">Try the above steps -  <em>20 mins.</em> </span></h3>"
   ]
  },
  {
   "cell_type": "markdown",
   "metadata": {},
   "source": [
    "### Spatial relationships\n",
    "\n",
    "GeoPandas can perorm a range of spacial relational tests such as those shown in the figure and table below (from https://en.wikipedia.org/wiki/Spatial_relation).\n",
    "\n",
    "![](./images/spatial_fig.png)\n",
    "\n",
    "![](./images/spatial_table.png)\n",
    "\n"
   ]
  },
  {
   "cell_type": "markdown",
   "metadata": {},
   "source": [
    "To get all LSOA in Devon or Cornwall we need to apply a test for `overlaps` or `within` (as `within` alone will miss those LSOA that are share a boundary with the Devon and Cornwall region. In Pandas we use `|` for `or`."
   ]
  },
  {
   "cell_type": "code",
   "execution_count": null,
   "metadata": {},
   "outputs": [],
   "source": [
    "# Check for LSOA overlapping with, or completely within, Devon & Cornwall\n",
    "# NOTE this code can take a moment to run....\n",
    "mask = (lsoa_gdf.overlaps(dc_geometry)) | (lsoa_gdf.within(dc_geometry))"
   ]
  },
  {
   "cell_type": "code",
   "execution_count": null,
   "metadata": {},
   "outputs": [],
   "source": [
    "mask"
   ]
  },
  {
   "cell_type": "code",
   "execution_count": null,
   "metadata": {},
   "outputs": [],
   "source": [
    "# Create new Geopands DataFrame by applying mask\n",
    "devon_cornwall_lsoa = lsoa_gdf.loc[mask]"
   ]
  },
  {
   "cell_type": "code",
   "execution_count": null,
   "metadata": {},
   "outputs": [],
   "source": [
    "devon_cornwall_lsoa.head()"
   ]
  },
  {
   "cell_type": "code",
   "execution_count": null,
   "metadata": {},
   "outputs": [],
   "source": [
    "# Show map of new DataFrame\n",
    "devon_cornwall_lsoa.plot();"
   ]
  },
  {
   "cell_type": "markdown",
   "metadata": {},
   "source": [
    "<h3> <span style=\"color:red\">Try the above steps -  <em>10 mins.</em> </span></h3>"
   ]
  },
  {
   "cell_type": "markdown",
   "metadata": {},
   "source": [
    "<a name=\"load_hosp_data\"> Loading point data </a>\n",
    "## Loading point data (hospitals) and selecting those in Devon and Cornwall.\n",
    "\n",
    "We will load up a CSV file with hospital (acute stroke unit) data and create a geometry column from exisiting location data. This time our location data uses  Longitude and Latitute. For this we will use a different CRS, namely EPSG:4326 (alo known as WGS84). This is a global reference system for Long/Lat. We will demonstrate an alternative way of setting CRS, setting it *after* we have created the GeoPandas DataFrame. "
   ]
  },
  {
   "cell_type": "code",
   "execution_count": null,
   "metadata": {},
   "outputs": [],
   "source": [
    "# Load hospital data in GeoPandas DataFrame\n",
    "hospitals_gdf = geopandas.read_file('./data/hosp_107.csv')"
   ]
  },
  {
   "cell_type": "code",
   "execution_count": null,
   "metadata": {},
   "outputs": [],
   "source": [
    "# See what's loaded...\n",
    "hospitals_gdf"
   ]
  },
  {
   "cell_type": "code",
   "execution_count": null,
   "metadata": {},
   "outputs": [],
   "source": [
    "# Create a 'geometry' field manually using the '.points_from_xy' method\n",
    "# hospitals_gdf.long == hospitals_gdf['long']\n",
    "hospitals_gdf.geometry = geopandas.points_from_xy(\n",
    "        hospitals_gdf.long, hospitals_gdf.lat)\n",
    "\n",
    "# Set CRS for geometry, using epsg4326 for lat/long\n",
    "hospitals_gdf = hospitals_gdf.set_crs(epsg=4326)\n",
    "hospitals_gdf.head()\n",
    "# Note: geometry field is now a point (and not polygon/ multipolygon)"
   ]
  },
  {
   "cell_type": "markdown",
   "metadata": {},
   "source": [
    "*Remember how we were initally working with BNG - then this hospital data was in lat/long?*\n",
    "\n",
    "We now convert CRS from Lat/long to the BNG (EPSG 27700) we have been using in the LSOA DataFrame."
   ]
  },
  {
   "cell_type": "code",
   "execution_count": null,
   "metadata": {},
   "outputs": [],
   "source": [
    "hospitals_gdf = hospitals_gdf.to_crs(epsg=27700)"
   ]
  },
  {
   "cell_type": "markdown",
   "metadata": {},
   "source": [
    "Notice how the geometry column has changed:"
   ]
  },
  {
   "cell_type": "code",
   "execution_count": null,
   "metadata": {},
   "outputs": [],
   "source": [
    "# Take a look at the geometry column. What's different?\n",
    "hospitals_gdf.head()"
   ]
  },
  {
   "cell_type": "code",
   "execution_count": null,
   "metadata": {},
   "outputs": [],
   "source": [
    "# list of acute stroke units (eastings and northings)\n",
    "hospitals_gdf.plot();"
   ]
  },
  {
   "cell_type": "markdown",
   "metadata": {},
   "source": [
    "Identify hospitals `within` the Devon and Cornwall geometry zone we created earlier.\n",
    "\n",
    "[Remind ourselves how we created `dc_geometry` here](#define_dc_geometry)"
   ]
  },
  {
   "cell_type": "code",
   "execution_count": null,
   "metadata": {},
   "outputs": [],
   "source": [
    "mask = hospitals_gdf.within(dc_geometry)\n",
    "dc_hospitals = hospitals_gdf.loc[mask]\n",
    "dc_hospitals"
   ]
  },
  {
   "cell_type": "markdown",
   "metadata": {},
   "source": [
    "<h3> <span style=\"color:red\">Try the above steps -  <em>10 mins.</em> </span></h3>"
   ]
  },
  {
   "cell_type": "markdown",
   "metadata": {},
   "source": [
    "<a name=\"travel_times\"> Bring in travel times to closest hospital</a>\n",
    "## Bring in travel times to closest hospital\n",
    "\n",
    "We will load data on travel times from each LSOA to their closest acute stroke unit. The DataFrame `merge` method is used to merge this into our GeoPandas DataFrame."
   ]
  },
  {
   "cell_type": "code",
   "execution_count": null,
   "metadata": {},
   "outputs": [],
   "source": [
    "# Import table of travel times from LSOA to closest stroke unit\n",
    "travel_time = pd.read_csv('./data/lsoa_107_ivt.csv')"
   ]
  },
  {
   "cell_type": "code",
   "execution_count": null,
   "metadata": {},
   "outputs": [],
   "source": [
    "travel_time.head()"
   ]
  },
  {
   "cell_type": "code",
   "execution_count": null,
   "metadata": {},
   "outputs": [],
   "source": [
    "# Merge data\n",
    "devon_cornwall_lsoa = devon_cornwall_lsoa.merge(\n",
    "    travel_time[['area', 'time_to_thrombolysis_unit']], left_on='lsoa11nm', right_on='area', how='left')"
   ]
  },
  {
   "cell_type": "code",
   "execution_count": null,
   "metadata": {},
   "outputs": [],
   "source": [
    "devon_cornwall_lsoa.head()"
   ]
  },
  {
   "cell_type": "markdown",
   "metadata": {},
   "source": [
    "## Mapping data with MatPlotLib\n",
    "<a name=\"matplotlib\">\n",
    "   Mapping data with MatPlotLib\n",
    "</a>\n",
    "\n",
    "Using MatPlotLib gives us more power than the GeoPandas DataFrame `plot` method."
   ]
  },
  {
   "cell_type": "code",
   "execution_count": null,
   "metadata": {},
   "outputs": [],
   "source": [
    "fig, ax = plt.subplots(figsize=(10, 10)) # Make max dimensions 10x10 inch\n",
    "devon_cornwall_lsoa.plot(ax=ax, # Set which axes to use for plot (only one here)\n",
    "                 column='time_to_thrombolysis_unit', # Column to apply colour\n",
    "                 antialiased=False, # Avoids artifact boundry lines\n",
    "                 edgecolor='face', # Make LSOA boundry same colour as area\n",
    "                 vmin=0, # Manual scale min (remove to make automatic)\n",
    "                 vmax=70, # Manual scale max (remove to make automatic)\n",
    "                 cmap='inferno_r', # Colour map to use\n",
    "                 # Adjust size of colourmap key, and add label\n",
    "                 legend_kwds={'shrink':0.5, 'label':'Travel time (mins)'},\n",
    "                 # Set to display legend\n",
    "                 legend=True)\n",
    "ax.set_axis_off() # Turn of axis linea dn numbers\n",
    "plt.savefig('map.jpg', dpi=300) # Save figure\n",
    "plt.show()"
   ]
  },
  {
   "cell_type": "markdown",
   "metadata": {},
   "source": [
    "Repeat, but display hospitals as an extra plot using `ax` as axis. We will add hospital name (just postcode here), and use contexity to add a base map."
   ]
  },
  {
   "cell_type": "code",
   "execution_count": null,
   "metadata": {},
   "outputs": [],
   "source": [
    "# When using base maps convert data to epsg:3857\n",
    "devon_cornwall_lsoa = devon_cornwall_lsoa.to_crs(epsg=3857)\n",
    "dc_hospitals = dc_hospitals.to_crs(epsg=3857)"
   ]
  },
  {
   "cell_type": "code",
   "execution_count": null,
   "metadata": {},
   "outputs": [],
   "source": [
    "fig, ax = plt.subplots(figsize=(10, 10)) # Make max dimensions 10x10 inch\n",
    "# Plot travel times for each LSOA\n",
    "devon_cornwall_lsoa.plot(ax=ax, # Set which axes to use for plot (only one here)\n",
    "        column='time_to_thrombolysis_unit', # Column to apply colour\n",
    "        # antialiased=False, # Avoids artifact boundry lines\n",
    "        edgecolor='face', # Make LSOA boundry same colour as area\n",
    "        linewidth=0.0,# Use linewidth=0 to hide boarder lines\n",
    "        vmin=0, # Manual scale min (remove to make automatic)\n",
    "        vmax=70, # Manual scale max (remove to make automatic)\n",
    "        cmap='inferno_r', # Coloour map to use\n",
    "        # Adjust size of colourmap key, and add label\n",
    "        legend_kwds={'shrink':0.4, 'label':'Travel time (mins)'},\n",
    "        # Set to display legend\n",
    "        legend=True,\n",
    "        # Set transparancy (to help reveal basemap)\n",
    "        alpha = 0.70)\n",
    "\n",
    "# Plot location of hospitals\n",
    "dc_hospitals.plot(ax=ax, edgecolor='k', facecolor='w', markersize=200, \n",
    "                  marker='*')\n",
    "# Add labels\n",
    "for x, y, label in zip(\n",
    "    dc_hospitals.geometry.x, dc_hospitals.geometry.y, dc_hospitals.hospital):\n",
    "        ax.annotate(label, xy=(x, y), xytext=(8, 8), textcoords=\"offset points\",\n",
    "                    backgroundcolor=\"w\", fontsize=8)\n",
    "        \n",
    "# Add base map (note that we specifiy thr same CRS as we are using)\n",
    "# Use manual zoom to adjust level of detail of base map\n",
    "ctx.add_basemap(ax, \n",
    "                source=ctx.providers.OpenStreetMap.Mapnik,zoom=10)\n",
    "    \n",
    "ax.set_axis_off() # Turn of axis line numbers\n",
    "ax.set_title('Travel time (minutes) to closest acute stroke unit')\n",
    "# Adjust for printing\n",
    "ax.margins(0)\n",
    "ax.apply_aspect()\n",
    "plt.subplots_adjust(left=0.01, right=1.0, bottom=0.0, top=1.0)\n",
    "# Save figure\n",
    "plt.savefig('map.jpg', dpi=300)\n",
    "plt.show()"
   ]
  }
 ],
 "metadata": {
  "kernelspec": {
   "display_name": "Python 3 (ipykernel)",
   "language": "python",
   "name": "python3"
  },
  "language_info": {
   "codemirror_mode": {
    "name": "ipython",
    "version": 3
   },
   "file_extension": ".py",
   "mimetype": "text/x-python",
   "name": "python",
   "nbconvert_exporter": "python",
   "pygments_lexer": "ipython3",
   "version": "3.9.12"
  }
 },
 "nbformat": 4,
 "nbformat_minor": 4
}
